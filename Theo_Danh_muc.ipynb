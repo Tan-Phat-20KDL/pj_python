{
  "nbformat": 4,
  "nbformat_minor": 0,
  "metadata": {
    "colab": {
      "provenance": []
    },
    "kernelspec": {
      "name": "python3",
      "display_name": "Python 3"
    },
    "language_info": {
      "name": "python"
    }
  },
  "cells": [
    {
      "cell_type": "code",
      "execution_count": null,
      "metadata": {
        "colab": {
          "base_uri": "https://localhost:8080/",
          "height": 297
        },
        "id": "XvQV4ETw_ghs",
        "outputId": "2e01afd6-9a78-4ac8-fb84-554e6ab66159"
      },
      "outputs": [
        {
          "output_type": "stream",
          "name": "stdout",
          "text": [
            "Requirement already satisfied: requests in /usr/local/lib/python3.10/dist-packages (2.31.0)\n",
            "Requirement already satisfied: charset-normalizer<4,>=2 in /usr/local/lib/python3.10/dist-packages (from requests) (3.3.2)\n",
            "Requirement already satisfied: idna<4,>=2.5 in /usr/local/lib/python3.10/dist-packages (from requests) (3.7)\n",
            "Requirement already satisfied: urllib3<3,>=1.21.1 in /usr/local/lib/python3.10/dist-packages (from requests) (2.0.7)\n",
            "Requirement already satisfied: certifi>=2017.4.17 in /usr/local/lib/python3.10/dist-packages (from requests) (2024.2.2)\n"
          ]
        },
        {
          "output_type": "error",
          "ename": "KeyError",
          "evalue": "' * 1000'",
          "traceback": [
            "\u001b[0;31m---------------------------------------------------------------------------\u001b[0m",
            "\u001b[0;31mKeyError\u001b[0m                                  Traceback (most recent call last)",
            "\u001b[0;32m<ipython-input-20-18c741c82b87>\u001b[0m in \u001b[0;36m<cell line: 23>\u001b[0;34m()\u001b[0m\n\u001b[1;32m     24\u001b[0m     \u001b[0;31m# Calculate offset value\u001b[0m\u001b[0;34m\u001b[0m\u001b[0;34m\u001b[0m\u001b[0m\n\u001b[1;32m     25\u001b[0m     \u001b[0moffset_value\u001b[0m \u001b[0;34m=\u001b[0m \u001b[0moffset\u001b[0m \u001b[0;34m*\u001b[0m \u001b[0;36m1000\u001b[0m\u001b[0;34m\u001b[0m\u001b[0;34m\u001b[0m\u001b[0m\n\u001b[0;32m---> 26\u001b[0;31m     \u001b[0murl\u001b[0m \u001b[0;34m=\u001b[0m \u001b[0murl_template\u001b[0m\u001b[0;34m.\u001b[0m\u001b[0mformat\u001b[0m\u001b[0;34m(\u001b[0m\u001b[0moffset\u001b[0m\u001b[0;34m=\u001b[0m\u001b[0moffset_value\u001b[0m\u001b[0;34m)\u001b[0m\u001b[0;34m\u001b[0m\u001b[0;34m\u001b[0m\u001b[0m\n\u001b[0m\u001b[1;32m     27\u001b[0m \u001b[0;34m\u001b[0m\u001b[0m\n\u001b[1;32m     28\u001b[0m \u001b[0;34m\u001b[0m\u001b[0m\n",
            "\u001b[0;31mKeyError\u001b[0m: ' * 1000'"
          ]
        }
      ],
      "source": [
        "!pip install requests\n",
        "import requests\n",
        "import json\n",
        "\n",
        "# Thay thế bằng partner_id, shop_id, keyword và access_token của bạn\n",
        "partner_id = 2001887\n",
        "shop_id = 322300222\n",
        "keyword = \"áo thun\"\n",
        "access_token = \"71594a4c54537649697341796363674a\"\n",
        "\n",
        "# Khởi tạo biến lưu trữ dữ liệu sản phẩm\n",
        "products = []\n",
        "\n",
        "# Lặp để thu thập dữ liệu theo từng trang (offset)\n",
        "for offset in range(0, 10):\n",
        "    # Thiết lập URL API\n",
        "    url = f\"https://partner.shopeemobile.com/api/v2/item/search_item?partner_id={partner_id}&shop_id={shop_id}&keyword={keyword}&access_token={access_token}&limit=1000&offset={offset * 1000}\"\n",
        "\n",
        "    # Gửi yêu cầu API và lấy dữ liệu JSON\n",
        "    response = requests.get(url)\n",
        "    data = json.loads(response.text)\n",
        "\n",
        "    # Kiểm tra lỗi API\n",
        "    if data[\"error\"]:\n",
        "        print(f\"Lỗi API: {data['error']}\")\n",
        "        break\n",
        "\n",
        "    # Thêm dữ liệu sản phẩm vào danh sách\n",
        "    products.extend(data[\"items\"])\n",
        "\n",
        "# In số lượng sản phẩm thu thập được\n",
        "print(f\"Đã thu thập {len(products)} sản phẩm\")\n",
        "\n",
        "# Lưu trữ dữ liệu sản phẩm vào tệp tin JSON (tùy chọn)\n",
        "with open(\"products.json\", \"w\") as f:\n",
        "    json.dump(products, f, indent=4)"
      ]
    }
  ]
}